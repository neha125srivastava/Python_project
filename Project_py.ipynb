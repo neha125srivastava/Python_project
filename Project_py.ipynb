{
 "cells": [
  {
   "cell_type": "code",
   "execution_count": null,
   "id": "0e6566d0-4d1b-4174-bc30-8fbf96d096aa",
   "metadata": {},
   "outputs": [],
   "source": [
    "menu = {\n",
    "    'Black Coffee': 40,\n",
    "    'Cold coffee': 80,\n",
    "    'Ice Cream Cold coffee': 150,\n",
    "    'Burger': 100,\n",
    "    'Mojito': 50,\n",
    "    'Pizza': 150,\n",
    "    'Chowmein':50\n",
    "}\n",
    "\n",
    "print(\"WELCOME! To Our Cafe 'Khushamadeed'. Here's the menu\")\n",
    "for item, price in menu.items():\n",
    "    print(f\"{item}: {price}\")\n",
    "\n",
    "order_total = 0\n",
    "item_1 = input(\"What would you like to order sir/mam? \")\n",
    "\n",
    "if item_1 in menu:\n",
    "    order_total += menu[item_1]\n",
    "    print(f\"Your item {item_1} has been added to your cart\")\n",
    "else:\n",
    "    print(f\"Ordered item {item_1} is not available yet!\")\n",
    "\n",
    "another_item = input(\"Do you want to order another item? (Yes/No)\")\n",
    "\n",
    "while another_item == \"Yes\":\n",
    "    item_2 = input(\"What would you like to order sir/mam? \")\n",
    "    if item_2 in menu:\n",
    "        order_total += menu[item_2]\n",
    "        print(f\"Your item {item_2} has been added to your cart\")\n",
    "    else:\n",
    "        print(f\"Ordered item {item_2} is not available yet!\")\n",
    "    \n",
    "    another_item = input(\"Do you want to order another item? (Yes/No)\")\n",
    "\n",
    "print(f\"The total amount of your order to pay is {order_total}\")\n"
   ]
  },
  {
   "cell_type": "code",
   "execution_count": null,
   "id": "820e605f-468e-4148-9600-a1bb9a08e5fc",
   "metadata": {},
   "outputs": [],
   "source": []
  }
 ],
 "metadata": {
  "kernelspec": {
   "display_name": "Python 3 (ipykernel)",
   "language": "python",
   "name": "python3"
  },
  "language_info": {
   "codemirror_mode": {
    "name": "ipython",
    "version": 3
   },
   "file_extension": ".py",
   "mimetype": "text/x-python",
   "name": "python",
   "nbconvert_exporter": "python",
   "pygments_lexer": "ipython3",
   "version": "3.12.5"
  }
 },
 "nbformat": 4,
 "nbformat_minor": 5
}
