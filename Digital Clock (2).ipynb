{
 "cells": [
  {
   "cell_type": "code",
   "execution_count": null,
   "id": "d2762e1f-49a7-4aad-862b-6d0fb8c32b2f",
   "metadata": {},
   "outputs": [],
   "source": [
    "import tkinter as tk\n",
    "from time import strftime\n",
    "\n",
    "# Create the main window\n",
    "root = tk.Tk()\n",
    "root.title(\"Digital Clock\")\n",
    "\n",
    "# Define a function to update the time and date\n",
    "def update_time():\n",
    "    current_time = strftime('%H:%M:%S %p')  # Get the current time\n",
    "    current_date = strftime('%A, %B %d, %Y')  # Get the current date\n",
    "    label_time.config(text=current_time)      # Update the time label\n",
    "    label_date.config(text=current_date)      # Update the date label\n",
    "    label_time.after(1000, update_time)       # Call the update_time function every 1 second (1000 ms)\n",
    "\n",
    "# Create and configure the time label\n",
    "label_time = tk.Label(root, font=('calibri', 40, 'bold'), background='purple', foreground='white')\n",
    "label_time.pack(anchor='center')\n",
    "\n",
    "# Create and configure the date label\n",
    "label_date = tk.Label(root, font=('calibri', 20, 'bold'), background='purple', foreground='white')\n",
    "label_date.pack(anchor='center')\n",
    "\n",
    "# Start updating the time and date\n",
    "update_time()\n",
    "\n",
    "# Run the main loop\n",
    "root.mainloop()\n"
   ]
  },
  {
   "cell_type": "code",
   "execution_count": null,
   "id": "246e5188-192c-41bb-b3df-861693d4528b",
   "metadata": {},
   "outputs": [],
   "source": []
  }
 ],
 "metadata": {
  "kernelspec": {
   "display_name": "Python 3 (ipykernel)",
   "language": "python",
   "name": "python3"
  },
  "language_info": {
   "codemirror_mode": {
    "name": "ipython",
    "version": 3
   },
   "file_extension": ".py",
   "mimetype": "text/x-python",
   "name": "python",
   "nbconvert_exporter": "python",
   "pygments_lexer": "ipython3",
   "version": "3.12.5"
  }
 },
 "nbformat": 4,
 "nbformat_minor": 5
}
